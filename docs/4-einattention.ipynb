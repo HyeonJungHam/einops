{
 "cells": [
  {
   "cell_type": "markdown",
   "metadata": {
    "collapsed": true,
    "pycharm": {
     "name": "#%% md\n"
    }
   },
   "source": [
    "## EinAttention demo\n",
    "\n",
    "EinAttention covers a significant number of efficient attention mechanisms, though certainly not all.\n",
    "\n",
    "There are just too many modifications to squeeze them into a single layer.\n",
    "\n",
    "Here is a one-line idea of EinAttention: provide a detailed description of attention (what-attends-where) in 2-3 lines of code.\n",
    "Patterns in EinAttention are significantly more complicated, so ... welcome to the hardest level of einops.\n",
    "\n",
    "Examples will tell the story better."
   ]
  },
  {
   "cell_type": "code",
   "execution_count": 1,
   "outputs": [],
   "source": [
    "import torch\n",
    "from einops import rearrange, reduce\n",
    "from einops.einattention import EinAttention\n",
    "import numpy as np\n",
    "from matplotlib import pyplot as plt"
   ],
   "metadata": {
    "collapsed": false,
    "pycharm": {
     "name": "#%%\n"
    }
   }
  },
  {
   "cell_type": "markdown",
   "source": [
    "## 1d cases\n",
    "\n",
    "generate some sample data"
   ],
   "metadata": {
    "collapsed": false,
    "pycharm": {
     "name": "#%% md\n"
    }
   }
  },
  {
   "cell_type": "code",
   "execution_count": 2,
   "outputs": [],
   "source": [
    "batch, kv_tokens, channels = 7, 33, 55\n",
    "\n",
    "k, v = torch.from_numpy(np.random.RandomState(42).randn(2, batch, kv_tokens, channels))\n",
    "q_tokens = 22\n",
    "q = torch.from_numpy(np.random.RandomState(42).randn(batch, q_tokens, channels))"
   ],
   "metadata": {
    "collapsed": false,
    "pycharm": {
     "name": "#%%\n"
    }
   }
  },
  {
   "cell_type": "markdown",
   "source": [
    "## Vanilla 1d attention\n",
    "\n",
    "Note: we only implement attention part, but do not touch a linear projection, and pre- or post- normalizations.\n",
    "\n",
    "\n",
    "\n",
    "Pattern:\n",
    "```\n",
    "output <- q_pattern, k_and_v_pattern  (order likely to change)\n",
    "```\n",
    "\n",
    "Star is a special embedding dimension, that is reduced and the recovered during attention.\n",
    "\n",
    "General recommendation to mark q-only and kv-only variables as such, though later I ignore this recommendation myself and mark kv only\n"
   ],
   "metadata": {
    "collapsed": false,
    "pycharm": {
     "name": "#%% md\n"
    }
   }
  },
  {
   "cell_type": "code",
   "execution_count": 3,
   "outputs": [],
   "source": [
    "att = EinAttention(\n",
    "    'b t_q * <- b t_q *, b t_kv *',\n",
    ")\n",
    "result = att(q, k, v)"
   ],
   "metadata": {
    "collapsed": false,
    "pycharm": {
     "name": "#%%\n"
    }
   }
  },
  {
   "cell_type": "code",
   "execution_count": 4,
   "outputs": [],
   "source": [
    "def btc2tbc(x):\n",
    "    return rearrange(x, 'b t c -> t b c')"
   ],
   "metadata": {
    "collapsed": false,
    "pycharm": {
     "name": "#%%\n"
    }
   }
  },
  {
   "cell_type": "code",
   "execution_count": 5,
   "outputs": [
    {
     "data": {
      "text/plain": "True"
     },
     "execution_count": 5,
     "metadata": {},
     "output_type": "execute_result"
    }
   ],
   "source": [
    "# let's reorganize for sequence-first\n",
    "att = EinAttention(\n",
    "    't_q b * <- t_q b *, t_kv b *',\n",
    ")\n",
    "result_tbc = att(btc2tbc(q), btc2tbc(k), btc2tbc(v))\n",
    "# check that results are identical\n",
    "torch.allclose(result_tbc, btc2tbc(result))"
   ],
   "metadata": {
    "collapsed": false,
    "pycharm": {
     "name": "#%%\n"
    }
   }
  },
  {
   "cell_type": "markdown",
   "source": [
    "## Vanilla 1d multi-head attention\n"
   ],
   "metadata": {
    "collapsed": false,
    "pycharm": {
     "name": "#%% md\n"
    }
   }
  },
  {
   "cell_type": "code",
   "execution_count": 6,
   "outputs": [
    {
     "data": {
      "text/plain": "torch.Size([7, 22, 55])"
     },
     "execution_count": 6,
     "metadata": {},
     "output_type": "execute_result"
    }
   ],
   "source": [
    "n_heads = 5\n",
    "att_mha = EinAttention(\n",
    "    'b t_q (head *) <- b t_q (head *), b t_kv (head *)', head=n_heads,\n",
    ")\n",
    "result = att_mha(q, k, v)\n",
    "result.shape"
   ],
   "metadata": {
    "collapsed": false,
    "pycharm": {
     "name": "#%%\n"
    }
   }
  },
  {
   "cell_type": "code",
   "execution_count": 7,
   "outputs": [
    {
     "data": {
      "text/plain": "tensor([[1., 1., 1., 1., 1., 1., 1., 1., 1., 1., 1.],\n        [0., 0., 0., 0., 0., 0., 0., 0., 0., 0., 0.],\n        [0., 0., 0., 0., 0., 0., 0., 0., 0., 0., 0.],\n        [0., 0., 0., 0., 0., 0., 0., 0., 0., 0., 0.],\n        [0., 0., 0., 0., 0., 0., 0., 0., 0., 0., 0.]])"
     },
     "execution_count": 7,
     "metadata": {},
     "output_type": "execute_result"
    }
   ],
   "source": [
    "# change first channel\n",
    "# and check that only first head is changed\n",
    "\n",
    "modified_q = q.clone()\n",
    "modified_q[:, :, 0] = 5\n",
    "number_of_differences = ~torch.isclose(\n",
    "    att_mha(q, k, v),\n",
    "    att_mha(modified_q, k, v)\n",
    ")\n",
    "reduce(number_of_differences.float(), 'b t (head c) -> head c', 'mean', head=n_heads)"
   ],
   "metadata": {
    "collapsed": false,
    "pycharm": {
     "name": "#%%\n"
    }
   }
  },
  {
   "cell_type": "markdown",
   "source": [
    "In the next examples I'll focus on non-multi-head versions, as multi-head attention is basically all about\n",
    "replacing * with (head, *)"
   ],
   "metadata": {
    "collapsed": false,
    "pycharm": {
     "name": "#%% md\n"
    }
   }
  },
  {
   "cell_type": "markdown",
   "source": [
    "## Causal 1d attention"
   ],
   "metadata": {
    "collapsed": false,
    "pycharm": {
     "name": "#%% md\n"
    }
   }
  },
  {
   "cell_type": "code",
   "execution_count": 8,
   "outputs": [],
   "source": [
    "class CausalAttentionBTC(EinAttention):\n",
    "    def __init__(self):\n",
    "        super().__init__('b t_q * <- b t_q *, b t_kv *')\n",
    "\n",
    "    def modify_logit_inplace(self, logit_all_dims):\n",
    "        t_q, t_kv = self.get_logit_dimensions_grid(logit_all_dims, ['t_q', 't_kv'])\n",
    "        causal_mask = (t_kv <= t_q)\n",
    "        logit_all_dims.add_(causal_mask.float().mul(100))\n",
    "\n",
    "att_causal = CausalAttentionBTC()\n",
    "\n",
    "# let's check it is still scriptable\n",
    "att_causal = torch.jit.script(att_causal)\n",
    "causal_result = att_causal(q, k, v)"
   ],
   "metadata": {
    "collapsed": false,
    "pycharm": {
     "name": "#%%\n"
    }
   }
  },
  {
   "cell_type": "code",
   "execution_count": 9,
   "outputs": [
    {
     "data": {
      "text/plain": "tensor([0., 0., 0., 0., 0., 0., 1., 0., 0., 0., 0., 0., 0., 0., 0., 0., 0., 0.,\n        0., 0., 0., 0.])"
     },
     "execution_count": 9,
     "metadata": {},
     "output_type": "execute_result"
    }
   ],
   "source": [
    "# modify q and check that only one output position changes\n",
    "q_modified = q.clone()\n",
    "q_modified[:, 6, :] = 0\n",
    "\n",
    "number_of_differences = ~torch.isclose(causal_result, att_causal(q_modified, k, v))\n",
    "reduce(number_of_differences.float(), 'b t c -> t', 'mean')"
   ],
   "metadata": {
    "collapsed": false,
    "pycharm": {
     "name": "#%%\n"
    }
   }
  },
  {
   "cell_type": "code",
   "execution_count": 10,
   "outputs": [
    {
     "data": {
      "text/plain": "tensor([0.0000, 0.0000, 0.0000, 0.0000, 0.0000, 0.0000, 1.0000, 1.0000, 0.9948,\n        1.0000, 1.0000, 1.0000, 0.9870, 0.9974, 1.0000, 1.0000, 1.0000, 1.0000,\n        1.0000, 1.0000, 1.0000, 1.0000])"
     },
     "execution_count": 10,
     "metadata": {},
     "output_type": "execute_result"
    }
   ],
   "source": [
    "# modify k and check that output changes only for positions 6 and after\n",
    "k_modified = k.clone()\n",
    "k_modified[:, 6, :] = 5\n",
    "\n",
    "number_of_differences = ~torch.isclose(causal_result, att_causal(q, k_modified, v))\n",
    "reduce(number_of_differences.float(), 'b t c -> t', 'mean', b=batch)"
   ],
   "metadata": {
    "collapsed": false,
    "pycharm": {
     "name": "#%%\n"
    }
   }
  },
  {
   "cell_type": "code",
   "execution_count": 11,
   "outputs": [
    {
     "data": {
      "text/plain": "tensor([0., 0., 0., 0., 0., 0., 1., 1., 1., 1., 1., 1., 1., 1., 1., 1., 1., 1.,\n        1., 1., 1., 1.])"
     },
     "execution_count": 11,
     "metadata": {},
     "output_type": "execute_result"
    }
   ],
   "source": [
    "# same exercise with v\n",
    "v_modified = v.clone()\n",
    "v_modified[:, 6, :] = 5\n",
    "\n",
    "number_of_differences = ~torch.isclose(causal_result, att_causal(q, k, v_modified))\n",
    "reduce(number_of_differences.float(), 'b t c -> t', 'mean', b=batch)"
   ],
   "metadata": {
    "collapsed": false,
    "pycharm": {
     "name": "#%%\n"
    }
   }
  },
  {
   "cell_type": "markdown",
   "source": [
    "## Skip some positions in attention\n",
    "\n",
    "To process sequences of different length within the same batch,\n",
    "a common recipe is pad_token.\n",
    "\n",
    "While that's quite ugly (see how we solve it in CAPE with variable stfts), that's a very common usecase, so here how EinAttention deals with it."
   ],
   "metadata": {
    "collapsed": false,
    "pycharm": {
     "name": "#%% md\n"
    }
   }
  },
  {
   "cell_type": "code",
   "execution_count": 12,
   "outputs": [],
   "source": [
    "# generate mask of arbitrary structure\n",
    "kv_masked = torch.from_numpy(np.random.RandomState(42).randn(batch, kv_tokens)) > 0"
   ],
   "metadata": {
    "collapsed": false,
    "pycharm": {
     "name": "#%%\n"
    }
   }
  },
  {
   "cell_type": "code",
   "execution_count": 13,
   "outputs": [],
   "source": [
    "att_with_masks = EinAttention(\n",
    "    'b t_q * <- b t_q * , b t_kv *', logshift_forward='b t_kv'\n",
    ")\n",
    "att_with_masks = torch.jit.script(att_with_masks)"
   ],
   "metadata": {
    "collapsed": false,
    "pycharm": {
     "name": "#%%\n"
    }
   }
  },
  {
   "cell_type": "code",
   "execution_count": 14,
   "outputs": [],
   "source": [
    "result_with_masks = att_with_masks(q, k, v, logshift=kv_masked.mul(-100))"
   ],
   "metadata": {
    "collapsed": false,
    "pycharm": {
     "name": "#%%\n"
    }
   }
  },
  {
   "cell_type": "code",
   "execution_count": 15,
   "outputs": [
    {
     "data": {
      "text/plain": "True"
     },
     "execution_count": 15,
     "metadata": {},
     "output_type": "execute_result"
    }
   ],
   "source": [
    "# check that change of masked elements does not have any effect\n",
    "k_modified = k.clone()\n",
    "k_modified[kv_masked] = -1\n",
    "\n",
    "v_modified = v.clone()\n",
    "v_modified[kv_masked] = -1\n",
    "\n",
    "torch.allclose(\n",
    "    att_with_masks(q, k, v, logshift=kv_masked.mul(-100)),\n",
    "    att_with_masks(q, k_modified, v_modified, logshift=kv_masked.mul(-100)),\n",
    ")"
   ],
   "metadata": {
    "collapsed": false,
    "pycharm": {
     "name": "#%%\n"
    }
   }
  },
  {
   "cell_type": "code",
   "execution_count": 16,
   "outputs": [
    {
     "data": {
      "text/plain": "False"
     },
     "execution_count": 16,
     "metadata": {},
     "output_type": "execute_result"
    }
   ],
   "source": [
    "# now check that changes in non-masked elements affect result, modifying k\n",
    "k_modified = k.clone()\n",
    "k_modified[~kv_masked] = -1\n",
    "\n",
    "torch.allclose(\n",
    "    att_with_masks(q, k, v, logshift=kv_masked.mul(-100)),\n",
    "    att_with_masks(q, k_modified, v, logshift=kv_masked.mul(-100)),\n",
    ")"
   ],
   "metadata": {
    "collapsed": false,
    "pycharm": {
     "name": "#%%\n"
    }
   }
  },
  {
   "cell_type": "code",
   "execution_count": 17,
   "outputs": [
    {
     "data": {
      "text/plain": "False"
     },
     "execution_count": 17,
     "metadata": {},
     "output_type": "execute_result"
    }
   ],
   "source": [
    "# now check that changes in non-masked elements affect result, modifying v\n",
    "v_modified = v.clone()\n",
    "v_modified[~kv_masked] = -1\n",
    "\n",
    "torch.allclose(\n",
    "    att_with_masks(q, k, v, logshift=kv_masked.mul(-100)),\n",
    "    att_with_masks(q, k, v_modified, logshift=kv_masked.mul(-100)),\n",
    ")"
   ],
   "metadata": {
    "collapsed": false,
    "pycharm": {
     "name": "#%%\n"
    }
   }
  },
  {
   "cell_type": "markdown",
   "source": [
    "## Cross-attention example"
   ],
   "metadata": {
    "collapsed": false,
    "pycharm": {
     "name": "#%% md\n"
    }
   }
  },
  {
   "cell_type": "code",
   "execution_count": 18,
   "outputs": [],
   "source": [
    "# say you have pairs of sentences and images; for every token in sentence you want to query over a corresponding image\n",
    "cross_attention = EinAttention(\n",
    "    'b t * <- b t *, b h w *'\n",
    ")"
   ],
   "metadata": {
    "collapsed": false,
    "pycharm": {
     "name": "#%%\n"
    }
   }
  },
  {
   "cell_type": "code",
   "execution_count": 19,
   "outputs": [
    {
     "data": {
      "text/plain": "torch.Size([7, 22, 11])"
     },
     "execution_count": 19,
     "metadata": {},
     "output_type": "execute_result"
    }
   ],
   "source": [
    "cross_attention(\n",
    "    q=torch.zeros(batch, q_tokens, 11),\n",
    "    k=torch.zeros(batch, 13, 17, 11),\n",
    "    v=torch.zeros(batch, 13, 17, 11),\n",
    ").shape"
   ],
   "metadata": {
    "collapsed": false,
    "pycharm": {
     "name": "#%%\n"
    }
   }
  },
  {
   "cell_type": "markdown",
   "source": [
    "## 2d attention\n",
    "\n",
    "Basically, vanilla ViT, but without multi-head"
   ],
   "metadata": {
    "collapsed": false,
    "pycharm": {
     "name": "#%% md\n"
    }
   }
  },
  {
   "cell_type": "code",
   "execution_count": 20,
   "outputs": [],
   "source": [
    "batch = 7\n",
    "height = width = 15 # 15 = 5 * 3, will be important later\n",
    "imchannels = 33\n",
    "\n",
    "q, k, v = torch.from_numpy(\n",
    "    np.random.RandomState(42).randn(3, batch, imchannels, height, width)\n",
    ")"
   ],
   "metadata": {
    "collapsed": false,
    "pycharm": {
     "name": "#%%\n"
    }
   }
  },
  {
   "cell_type": "code",
   "execution_count": 21,
   "outputs": [
    {
     "data": {
      "text/plain": "torch.Size([7, 33, 15, 15])"
     },
     "execution_count": 21,
     "metadata": {},
     "output_type": "execute_result"
    }
   ],
   "source": [
    "attn_self_2d = EinAttention(\n",
    "    'b * h w <- b * h w, b * h_kv w_kv',\n",
    ")\n",
    "attn_self_2d = torch.jit.script(attn_self_2d)\n",
    "attn_self_2d(q, k, v).shape"
   ],
   "metadata": {
    "collapsed": false,
    "pycharm": {
     "name": "#%%\n"
    }
   }
  },
  {
   "cell_type": "code",
   "execution_count": 22,
   "outputs": [],
   "source": [
    "modified_k = k.clone()\n",
    "# modify a single element, this will affect all output elements\n",
    "modified_k[:, :, 0, 0] = 5"
   ],
   "metadata": {
    "collapsed": false,
    "pycharm": {
     "name": "#%%\n"
    }
   }
  },
  {
   "cell_type": "code",
   "execution_count": 23,
   "outputs": [
    {
     "data": {
      "text/plain": "tensor(0.0004)"
     },
     "execution_count": 23,
     "metadata": {},
     "output_type": "execute_result"
    }
   ],
   "source": [
    "torch.isclose(\n",
    "    attn_self_2d(q, k, v),\n",
    "    attn_self_2d(q, modified_k, v),\n",
    ").float().mean()"
   ],
   "metadata": {
    "collapsed": false,
    "pycharm": {
     "name": "#%%\n"
    }
   }
  },
  {
   "cell_type": "markdown",
   "source": [
    "##  Windowed attention (like SWIN transformers, but shifts are skipped)"
   ],
   "metadata": {
    "collapsed": false,
    "pycharm": {
     "name": "#%% md\n"
    }
   }
  },
  {
   "cell_type": "code",
   "execution_count": 24,
   "outputs": [
    {
     "data": {
      "text/plain": "torch.Size([7, 33, 15, 15])"
     },
     "execution_count": 24,
     "metadata": {},
     "output_type": "execute_result"
    }
   ],
   "source": [
    "n_windows = 5\n",
    "\n",
    "attn_windows = EinAttention(\n",
    "    'b * (Wh h) (Ww w) <- b * (Wh h) (Ww w), b * (Wh h_kv) (Ww w_kv)',\n",
    "    Wh=n_windows, Ww=n_windows,\n",
    ")\n",
    "\n",
    "attn_windows(q, k, v).shape"
   ],
   "metadata": {
    "collapsed": false,
    "pycharm": {
     "name": "#%%\n"
    }
   }
  },
  {
   "cell_type": "code",
   "execution_count": 25,
   "outputs": [
    {
     "data": {
      "text/plain": "<matplotlib.image.AxesImage at 0x160cb9640>"
     },
     "execution_count": 25,
     "metadata": {},
     "output_type": "execute_result"
    },
    {
     "data": {
      "text/plain": "<Figure size 432x288 with 1 Axes>",
      "image/png": "[encoded data removed]"
     },
     "metadata": {
      "needs_background": "light"
     },
     "output_type": "display_data"
    }
   ],
   "source": [
    "q_modified = q.clone()\n",
    "# modify top-left corner\n",
    "# and check that only one position changed in the output\n",
    "q_modified[:, :, 0, 0] = 5\n",
    "number_of_differences = torch.isclose(\n",
    "    attn_windows(q, k, v),\n",
    "    attn_windows(q_modified, k, v),\n",
    ")\n",
    "plt.imshow(\n",
    "    reduce(number_of_differences.float(), 'b c h w -> h w', 'mean'),\n",
    "    cmap='gray'\n",
    ")"
   ],
   "metadata": {
    "collapsed": false,
    "pycharm": {
     "name": "#%%\n"
    }
   }
  },
  {
   "cell_type": "code",
   "execution_count": 26,
   "outputs": [
    {
     "data": {
      "text/plain": "<matplotlib.image.AxesImage at 0x160db4940>"
     },
     "execution_count": 26,
     "metadata": {},
     "output_type": "execute_result"
    },
    {
     "data": {
      "text/plain": "<Figure size 432x288 with 1 Axes>",
      "image/png": "[encoded data removed]"
     },
     "metadata": {
      "needs_background": "light"
     },
     "output_type": "display_data"
    }
   ],
   "source": [
    "k_modified = k.clone()\n",
    "# modify top-left corner\n",
    "# and check that only positions in a window changed\n",
    "k_modified[:, :, 0, 0] = 5\n",
    "number_of_differences = torch.isclose(\n",
    "    attn_windows(q, k, v),\n",
    "    attn_windows(q, k_modified, v),\n",
    ")\n",
    "plt.imshow(\n",
    "    reduce(number_of_differences.float(), 'b c h w -> h w', 'mean'),\n",
    "    cmap='gray'\n",
    ")"
   ],
   "metadata": {
    "collapsed": false,
    "pycharm": {
     "name": "#%%\n"
    }
   }
  },
  {
   "cell_type": "markdown",
   "source": [
    "## Windowed attention with logit shifts\n",
    "\n",
    "To provide some information about positions of elements in attention, there are several ways:\n",
    "\n",
    "1. add a learnable term to logits, cheap and seems to work\n",
    "2. add position-dependent term to q / k / v or only to q / k; this probably worth adding, but it can be done as well outside of attention module.\n",
    "3. all kinds of relpos. This group is messy, implementations are hard and frequently resource-hungry specially in some corner cases.\n",
    "   - I am not convinced this group even worth thinking about - see again CAPE, benefits of relpos are minimal, headache is maximal\n",
    "\n",
    "So, let's add option 1. to previous method"
   ],
   "metadata": {
    "collapsed": false,
    "pycharm": {
     "name": "#%% md\n"
    }
   }
  },
  {
   "cell_type": "code",
   "execution_count": 27,
   "outputs": [
    {
     "data": {
      "text/plain": "torch.Size([7, 33, 15, 15])"
     },
     "execution_count": 27,
     "metadata": {},
     "output_type": "execute_result"
    }
   ],
   "source": [
    "window_size = 3\n",
    "\n",
    "attn_windows = EinAttention(\n",
    "    'b * (Wh h) (Ww w) <- b * (Wh h) (Ww w), b * (Wh h_kv) (Ww w_kv)',\n",
    "    # which parameters define shift? internally a tensor of this shape is created\n",
    "    logshift_param=\"h w h_kv w_kv\",\n",
    "    # now we need to specify all the dimension so that this tensor could be created\n",
    "    h=window_size, w=window_size, h_kv=window_size, w_kv=window_size,\n",
    ")\n",
    "\n",
    "attn_windows(q, k, v).shape"
   ],
   "metadata": {
    "collapsed": false,
    "pycharm": {
     "name": "#%%\n"
    }
   }
  },
  {
   "cell_type": "markdown",
   "source": [
    "## Strided attention (MaxVit / MobileViT)"
   ],
   "metadata": {
    "collapsed": false,
    "pycharm": {
     "name": "#%% md\n"
    }
   }
  },
  {
   "cell_type": "code",
   "execution_count": 28,
   "outputs": [
    {
     "name": "stdout",
     "output_type": "stream",
     "text": [
      "torch.Size([7, 33, 15, 15])\n"
     ]
    }
   ],
   "source": [
    "stride = 3\n",
    "\n",
    "attn_strides = EinAttention(\n",
    "    'b * (Wh h) (Ww w) <- b * (Wh h) (Ww w), b * (Wh_kv h) (Ww_kv w)',\n",
    "    h=stride, w=stride,\n",
    ")\n",
    "\n",
    "print(\n",
    "    attn_strides(q, k, v).shape\n",
    ")\n"
   ],
   "metadata": {
    "collapsed": false,
    "pycharm": {
     "name": "#%%\n"
    }
   }
  },
  {
   "cell_type": "code",
   "execution_count": 29,
   "outputs": [
    {
     "data": {
      "text/plain": "<matplotlib.image.AxesImage at 0x160e33880>"
     },
     "execution_count": 29,
     "metadata": {},
     "output_type": "execute_result"
    },
    {
     "data": {
      "text/plain": "<Figure size 432x288 with 1 Axes>",
      "image/png": "[encoded data removed]"
     },
     "metadata": {
      "needs_background": "light"
     },
     "output_type": "display_data"
    }
   ],
   "source": [
    "number_of_differences = torch.isclose(\n",
    "    attn_strides(q, k, v),\n",
    "    attn_strides(q, k_modified, v),\n",
    ")\n",
    "plt.imshow(\n",
    "    reduce(number_of_differences.float(), 'b c h w -> h w', 'mean'),\n",
    "    cmap='gray'\n",
    ")"
   ],
   "metadata": {
    "collapsed": false,
    "pycharm": {
     "name": "#%%\n"
    }
   }
  },
  {
   "cell_type": "markdown",
   "source": [
    "## Frenzy\n",
    "\n",
    "let's make an attention layer for video.\n",
    "\n",
    "- Multi headed, but also with groups of heads.\n",
    "- strided on time and image dimensions\n",
    "- unless you have H100 gpu, we can skip batch dimensions."
   ],
   "metadata": {
    "collapsed": false,
    "pycharm": {
     "name": "#%% md\n"
    }
   }
  },
  {
   "cell_type": "code",
   "execution_count": 30,
   "outputs": [],
   "source": [
    "class CausalVideoAttention(EinAttention):\n",
    "    def __init__(self, stride: int, time_stride: int, n_heads: int):\n",
    "        super().__init__(\n",
    "            '(T t) (head *) (H h) (W w) <- (T t) (head *) (H h) (W w), (T_kv t) (head *) (H_kv h) (W_kv w)',\n",
    "            h=stride, w=stride, t=time_stride, head=n_heads,\n",
    "        )\n",
    "\n",
    "    def modify_logit_inplace(self, logit_all_dims):\n",
    "        T_q, T_kv = self.get_logit_dimensions_grid(logit_all_dims, ['T', 'T_kv'])\n",
    "        causal_mask = (T_kv <= T_q)\n",
    "        logit_all_dims.add_(causal_mask.float().mul(100))"
   ],
   "metadata": {
    "collapsed": false,
    "pycharm": {
     "name": "#%%\n"
    }
   }
  },
  {
   "cell_type": "code",
   "execution_count": 31,
   "outputs": [],
   "source": [
    "CausalVideoAttention.get_logit_dimensions_grid??"
   ],
   "metadata": {
    "collapsed": false,
    "pycharm": {
     "name": "#%%\n"
    }
   }
  },
  {
   "cell_type": "code",
   "execution_count": 32,
   "outputs": [
    {
     "data": {
      "text/plain": "torch.Size([18, 22, 15, 20])"
     },
     "execution_count": 32,
     "metadata": {},
     "output_type": "execute_result"
    }
   ],
   "source": [
    "videoatt = CausalVideoAttention(time_stride=3, stride=5, n_heads=2)\n",
    "x = torch.randn(6 * 3, 2 * 11, 3 * 5, 4 * 5) # lazy, will use a single tensor\n",
    "videoatt(q=x, k=x, v=x).shape"
   ],
   "metadata": {
    "collapsed": false,
    "pycharm": {
     "name": "#%%\n"
    }
   }
  },
  {
   "cell_type": "markdown",
   "source": [
    "## Flexible logshift-based learnable relpos for 1d\n",
    "\n",
    "Built-in logshift_param has limited flexibility: corresponding dimensions should be fixed.\n",
    "\n"
   ],
   "metadata": {
    "collapsed": false,
    "pycharm": {
     "name": "#%% md\n"
    }
   }
  },
  {
   "cell_type": "code",
   "execution_count": 33,
   "outputs": [
    {
     "data": {
      "text/plain": "Einattention(...)"
     },
     "execution_count": 33,
     "metadata": {},
     "output_type": "execute_result"
    }
   ],
   "source": [
    "# Suppose we want to introduce a logshift-based learned attention (because we have learnable relpos) to vanilla 1d self-attention\n",
    "\n",
    "EinAttention('b t_q * <- b t_q *, b t_kv *')\n",
    "\n",
    "# if we introduce logshift_param like this, it is a full matrix and all sequences passed should be of the same length\n",
    "# - for most applications that's a no-go.\n",
    "EinAttention(\n",
    "    'b t_q (head *) <- b t_q (head *), b t_kv (head *)',\n",
    "    logshift_param='head t_q t_kv',\n",
    "    t_q=100, t_kv=100, head=8,\n",
    ")"
   ],
   "metadata": {
    "collapsed": false,
    "pycharm": {
     "name": "#%%\n"
    }
   }
  },
  {
   "cell_type": "code",
   "execution_count": 34,
   "outputs": [],
   "source": [
    "# So let's implement a custom relshift, again by subclassing\n",
    "# and defining custom logit modification\n",
    "\n",
    "class RelPosWithLearnableLogshifts(EinAttention):\n",
    "    def __init__(self, relpos_length: int, n_heads):\n",
    "        super().__init__('b t_q (h *) <- b t_q (h *), b t_kv (h *)', h=n_heads)\n",
    "\n",
    "        self.shifts = torch.nn.Parameter(torch.zeros(n_heads, 2 * relpos_length - 1).float())\n",
    "        self.relpos_length = relpos_length\n",
    "\n",
    "    def modify_logit_inplace(self, logit_all_dims):\n",
    "        head, t_q, t_kv = self.get_logit_dimensions_grid(logit_all_dims, ['h', 't_q', 't_kv'])\n",
    "        # clip maximal distance. Note that here we rely on negative indexing (this can be changed)\n",
    "        distance = (t_q - t_kv).clamp(-self.relpos_length, self.relpos_length)\n",
    "\n",
    "        shifts = self.shifts[head, distance]\n",
    "        logit_all_dims.add_(shifts)\n",
    "\n",
    "        # we can additionally mask for causality here if we want."
   ],
   "metadata": {
    "collapsed": false,
    "pycharm": {
     "name": "#%%\n"
    }
   }
  },
  {
   "cell_type": "code",
   "execution_count": 35,
   "outputs": [
    {
     "data": {
      "text/plain": "torch.Size([5, 25, 12])"
     },
     "execution_count": 35,
     "metadata": {},
     "output_type": "execute_result"
    }
   ],
   "source": [
    "relpos = RelPosWithLearnableLogshifts(relpos_length=11, n_heads=4)\n",
    "q, k, v = torch.randn(3, 5, 25, 4 * 3)\n",
    "relpos(q, k, v).shape"
   ],
   "metadata": {
    "collapsed": false,
    "pycharm": {
     "name": "#%%\n"
    }
   }
  },
  {
   "cell_type": "code",
   "execution_count": 35,
   "outputs": [],
   "source": [],
   "metadata": {
    "collapsed": false,
    "pycharm": {
     "name": "#%%\n"
    }
   }
  }
 ],
 "metadata": {
  "kernelspec": {
   "display_name": "Python 3",
   "language": "python",
   "name": "python3"
  },
  "language_info": {
   "codemirror_mode": {
    "name": "ipython",
    "version": 2
   },
   "file_extension": ".py",
   "mimetype": "text/x-python",
   "name": "python",
   "nbconvert_exporter": "python",
   "pygments_lexer": "ipython2",
   "version": "2.7.6"
  }
 },
 "nbformat": 4,
 "nbformat_minor": 0
}